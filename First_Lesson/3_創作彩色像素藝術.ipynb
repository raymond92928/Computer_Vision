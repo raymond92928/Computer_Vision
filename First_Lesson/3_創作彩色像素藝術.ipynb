{
  "cells": [
    {
      "cell_type": "markdown",
      "metadata": {
        "id": "view-in-github",
        "colab_type": "text"
      },
      "source": [
        "<a href=\"https://colab.research.google.com/github/raymond92928/Computer_Vision/blob/main/First_Lesson/3_%E5%89%B5%E4%BD%9C%E5%BD%A9%E8%89%B2%E5%83%8F%E7%B4%A0%E8%97%9D%E8%A1%93.ipynb\" target=\"_parent\"><img src=\"https://colab.research.google.com/assets/colab-badge.svg\" alt=\"Open In Colab\"/></a>"
      ]
    },
    {
      "cell_type": "code",
      "source": [
        "#@title 先運行此行來下載必要套件\n",
        "!pip install plotly\n",
        "!git clone https://github.com/raymond92928/Computer_Vision.git"
      ],
      "metadata": {
        "cellView": "form",
        "colab": {
          "base_uri": "https://localhost:8080/"
        },
        "id": "g0yONwcYynzN",
        "outputId": "d2cb9637-5ac3-4bd3-ccda-0aaab117cd3e"
      },
      "id": "g0yONwcYynzN",
      "execution_count": 1,
      "outputs": [
        {
          "output_type": "stream",
          "name": "stdout",
          "text": [
            "Requirement already satisfied: plotly in /usr/local/lib/python3.10/dist-packages (5.24.1)\n",
            "Requirement already satisfied: tenacity>=6.2.0 in /usr/local/lib/python3.10/dist-packages (from plotly) (9.0.0)\n",
            "Requirement already satisfied: packaging in /usr/local/lib/python3.10/dist-packages (from plotly) (24.2)\n",
            "fatal: destination path 'Computer_Vision' already exists and is not an empty directory.\n"
          ]
        }
      ]
    },
    {
      "cell_type": "markdown",
      "id": "bcb4a5cb",
      "metadata": {
        "id": "bcb4a5cb"
      },
      "source": [
        "### **[教師示範] 建立陣列來儲存彩色影像**\n",
        "\n",
        "1. 導入所需的模組。"
      ]
    },
    {
      "cell_type": "code",
      "execution_count": 2,
      "id": "f9a4ad74",
      "metadata": {
        "id": "f9a4ad74"
      },
      "outputs": [],
      "source": [
        "import numpy as np\n",
        "import matplotlib.pyplot as plt"
      ]
    },
    {
      "cell_type": "markdown",
      "id": "5d9081b6",
      "metadata": {
        "id": "5d9081b6"
      },
      "source": [
        "2. 建立一個空（黑色）4x2 陣列來儲存彩色影像。\n",
        "\n",
        "可以使用「np.zeros()」函數來建立一個空的 numpy 陣列。 `[2, 4, 3]` 表示陣列的形狀：2 行、4 列和 3 個通道。 `dtype` 表示陣列中儲存的資料類型。對於圖像，資料類型為“uint8”，其值介於 0 到 255 之間。"
      ]
    },
    {
      "cell_type": "code",
      "execution_count": 3,
      "id": "995f001f",
      "metadata": {
        "colab": {
          "base_uri": "https://localhost:8080/",
          "height": 331
        },
        "id": "995f001f",
        "outputId": "31e9c172-e47e-43fb-f121-20698d84f311"
      },
      "outputs": [
        {
          "output_type": "execute_result",
          "data": {
            "text/plain": [
              "<matplotlib.image.AxesImage at 0x7a6f9c30c190>"
            ]
          },
          "metadata": {},
          "execution_count": 3
        },
        {
          "output_type": "display_data",
          "data": {
            "text/plain": [
              "<Figure size 640x480 with 1 Axes>"
            ],
            "image/png": "[encoded data removed]"
          },
          "metadata": {}
        }
      ],
      "source": [
        "pic = np.zeros([2, 4, 3], dtype = 'uint8')\n",
        "plt.imshow(pic, vmin = 0, vmax = 255)"
      ]
    },
    {
      "cell_type": "markdown",
      "id": "ebc05a02",
      "metadata": {
        "id": "ebc05a02"
      },
      "source": [
        "3. 修改陣列元素的值，使影像完全變成紅色。列印修改後的陣列。\n",
        "\n",
        "<img src=\"\n",
        "https://raw.githubusercontent.com/raymond92928/Computer_Vision/refs/heads/main/First_Lesson/images_ans/imageRGB.png\" width = \"800\">"
      ]
    },
    {
      "cell_type": "code",
      "execution_count": 4,
      "id": "da88c908",
      "metadata": {
        "colab": {
          "base_uri": "https://localhost:8080/"
        },
        "id": "da88c908",
        "outputId": "794bf1d0-b4f0-45d5-a427-8bb3755b021d"
      },
      "outputs": [
        {
          "output_type": "stream",
          "name": "stdout",
          "text": [
            "[[[255   0   0]\n",
            "  [255   0   0]\n",
            "  [255   0   0]\n",
            "  [255   0   0]]\n",
            "\n",
            " [[255   0   0]\n",
            "  [255   0   0]\n",
            "  [255   0   0]\n",
            "  [255   0   0]]]\n"
          ]
        }
      ],
      "source": [
        "pic[:, :, 0] = 255 # Assign a value of 255 to the R (red) channel of all pixels\n",
        "print(pic)"
      ]
    },
    {
      "cell_type": "markdown",
      "id": "261e3271",
      "metadata": {
        "id": "261e3271"
      },
      "source": [
        "4. 顯示圖像。\n",
        "\n",
        "`plt.axis('off')` 為刪除圖中水平軸和垂直軸。"
      ]
    },
    {
      "cell_type": "code",
      "execution_count": 5,
      "id": "abb94901",
      "metadata": {
        "colab": {
          "base_uri": "https://localhost:8080/",
          "height": 285
        },
        "id": "abb94901",
        "outputId": "8842bd91-9064-4454-97f0-d62dc363a39c"
      },
      "outputs": [
        {
          "output_type": "display_data",
          "data": {
            "text/plain": [
              "<Figure size 640x480 with 1 Axes>"
            ],
            "image/png": "[encoded data removed]"
          },
          "metadata": {}
        }
      ],
      "source": [
        "plt.imshow(pic, vmin = 0, vmax = 255)\n",
        "plt.axis('off')  # Remove the axes\n",
        "plt.show()"
      ]
    },
    {
      "cell_type": "markdown",
      "id": "4b665db4",
      "metadata": {
        "id": "4b665db4"
      },
      "source": [
        "### **[學生實踐] 逐列修改數組中元素的值**\n",
        "\n",
        "1. 建立一個空（黑色）4x2 陣列來儲存彩色影像。"
      ]
    },
    {
      "cell_type": "code",
      "execution_count": 6,
      "id": "5d7e8dbd",
      "metadata": {
        "id": "5d7e8dbd"
      },
      "outputs": [],
      "source": [
        "pic = np.zeros([2, 4, 3], dtype = 'uint8')"
      ]
    },
    {
      "cell_type": "markdown",
      "id": "49d06ee4",
      "metadata": {
        "id": "49d06ee4"
      },
      "source": [
        "2. 修改數組元素的值以符合下圖。顯示圖像。\n",
        "\n",
        "<img src=\"https://raw.githubusercontent.com/raymond92928/Computer_Vision/refs/heads/main/First_Lesson/images_ans/imageRGB2.png\" width = \"800\">\n",
        "\n",
        "提示:\n",
        "```python\n",
        "# 將影像第一列的像素值設為 (255, 0, 0)\n",
        "pic[:, 0, :] = (255, 0, 0)\n",
        "```"
      ]
    },
    {
      "cell_type": "code",
      "execution_count": 7,
      "id": "fea7659c",
      "metadata": {
        "id": "fea7659c"
      },
      "outputs": [],
      "source": [
        "# Write your program below\n",
        "\n",
        "\n",
        "\n",
        "\n",
        "\n",
        "\n",
        "\n"
      ]
    },
    {
      "cell_type": "markdown",
      "id": "d2444bdc",
      "metadata": {
        "id": "d2444bdc"
      },
      "source": [
        "### **[學生實踐] 完成彩色像素藝術**\n",
        "\n",
        "1. 讀取並顯示彩色影像 `snowman_c.jpg`.\n"
      ]
    },
    {
      "cell_type": "code",
      "execution_count": 8,
      "id": "34e7d8c5",
      "metadata": {
        "colab": {
          "base_uri": "https://localhost:8080/",
          "height": 435
        },
        "id": "34e7d8c5",
        "outputId": "420abfc0-c251-4fdf-fd5f-e449c655b2c0"
      },
      "outputs": [
        {
          "output_type": "display_data",
          "data": {
            "text/plain": [
              "<Figure size 640x480 with 1 Axes>"
            ],
            "image/png": "[encoded data removed]"
          },
          "metadata": {}
        }
      ],
      "source": [
        "import cv2\n",
        "import matplotlib.pyplot as plt\n",
        "\n",
        "img = cv2.imread(\"/content/Computer_Vision/First_Lesson/images_ans/snowman_c.png\")\n",
        "img_rgb = cv2.cvtColor(img, cv2.COLOR_BGR2RGB)\n",
        "\n",
        "plt.imshow(img_rgb, vmin = 0, vmax = 255)\n",
        "plt.show()"
      ]
    },
    {
      "cell_type": "markdown",
      "id": "d7d947f1",
      "metadata": {
        "id": "d7d947f1"
      },
      "source": [
        "2. 編寫程式修改像素值，完成彩色像素影像，如下所示。\n",
        "\n",
        "<img src=\"https://raw.githubusercontent.com/raymond92928/Computer_Vision/refs/heads/main/First_Lesson/images_ans/snowman_c.png\" width = \"500\">"
      ]
    },
    {
      "cell_type": "code",
      "execution_count": 9,
      "id": "5b58c337",
      "metadata": {
        "id": "5b58c337"
      },
      "outputs": [],
      "source": [
        "# Write the program below\n",
        "\n",
        "\n",
        "\n",
        "\n",
        "\n",
        "\n",
        "\n",
        "\n",
        "\n",
        "\n",
        "\n",
        "\n"
      ]
    },
    {
      "cell_type": "markdown",
      "id": "f544df25",
      "metadata": {
        "id": "f544df25"
      },
      "source": [
        "### **[附加練習] 創作屬於你自己的彩色像素藝術**\n",
        "\n",
        "1. 編寫一個程式來創建您自己的彩色像素藝術。"
      ]
    },
    {
      "cell_type": "code",
      "execution_count": 10,
      "id": "9af61152",
      "metadata": {
        "id": "9af61152"
      },
      "outputs": [],
      "source": [
        "# Write your program below\n",
        "\n",
        "\n",
        "\n",
        "\n",
        "\n",
        "\n"
      ]
    }
  ],
  "metadata": {
    "kernelspec": {
      "display_name": "Python 3 (ipykernel)",
      "language": "python",
      "name": "python3"
    },
    "language_info": {
      "codemirror_mode": {
        "name": "ipython",
        "version": 3
      },
      "file_extension": ".py",
      "mimetype": "text/x-python",
      "name": "python",
      "nbconvert_exporter": "python",
      "pygments_lexer": "ipython3",
      "version": "3.9.7"
    },
    "colab": {
      "provenance": [],
      "include_colab_link": true
    }
  },
  "nbformat": 4,
  "nbformat_minor": 5
}