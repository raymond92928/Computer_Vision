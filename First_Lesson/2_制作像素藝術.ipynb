{
  "cells": [
    {
      "cell_type": "markdown",
      "metadata": {
        "id": "view-in-github",
        "colab_type": "text"
      },
      "source": [
        "<a href=\"https://colab.research.google.com/github/raymond92928/Computer_Vision/blob/main/First_Lesson/2_%E5%88%B6%E4%BD%9C%E5%83%8F%E7%B4%A0%E8%97%9D%E8%A1%93.ipynb\" target=\"_parent\"><img src=\"https://colab.research.google.com/assets/colab-badge.svg\" alt=\"Open In Colab\"/></a>"
      ]
    },
    {
      "cell_type": "code",
      "source": [
        "#@title 先運行此行來下載必要套件\n",
        "!pip install plotly\n",
        "!git clone https://github.com/raymond92928/Computer_Vision.git"
      ],
      "metadata": {
        "cellView": "form",
        "colab": {
          "base_uri": "https://localhost:8080/"
        },
        "id": "YlknQHTatS8v",
        "outputId": "8aa63c4d-c721-4f80-c76b-c767502b4cfc"
      },
      "id": "YlknQHTatS8v",
      "execution_count": 1,
      "outputs": [
        {
          "output_type": "stream",
          "name": "stdout",
          "text": [
            "Requirement already satisfied: plotly in /usr/local/lib/python3.10/dist-packages (5.24.1)\n",
            "Requirement already satisfied: tenacity>=6.2.0 in /usr/local/lib/python3.10/dist-packages (from plotly) (9.0.0)\n",
            "Requirement already satisfied: packaging in /usr/local/lib/python3.10/dist-packages (from plotly) (24.2)\n",
            "Cloning into 'Computer_Vision'...\n",
            "remote: Enumerating objects: 69, done.\u001b[K\n",
            "remote: Counting objects: 100% (69/69), done.\u001b[K\n",
            "remote: Compressing objects: 100% (49/49), done.\u001b[K\n",
            "remote: Total 69 (delta 12), reused 0 (delta 0), pack-reused 0 (from 0)\u001b[K\n",
            "Receiving objects: 100% (69/69), 2.08 MiB | 4.02 MiB/s, done.\n",
            "Resolving deltas: 100% (12/12), done.\n"
          ]
        }
      ]
    },
    {
      "cell_type": "markdown",
      "id": "db702719",
      "metadata": {
        "id": "db702719"
      },
      "source": [
        "### **[教師示範] 修改影像的像素值**\n",
        "\n",
        "1. 載入所需的模組"
      ]
    },
    {
      "cell_type": "code",
      "execution_count": 2,
      "id": "749d6350",
      "metadata": {
        "id": "749d6350"
      },
      "outputs": [],
      "source": [
        "import cv2\n",
        "import matplotlib.pyplot as plt"
      ]
    },
    {
      "cell_type": "markdown",
      "id": "5f7028c8",
      "metadata": {
        "id": "5f7028c8"
      },
      "source": [
        "2. 讀取並顯示灰階影像 `black.jpg`。"
      ]
    },
    {
      "cell_type": "code",
      "execution_count": 3,
      "id": "1860cc84",
      "metadata": {
        "scrolled": true,
        "colab": {
          "base_uri": "https://localhost:8080/",
          "height": 430
        },
        "id": "1860cc84",
        "outputId": "341c7866-0a45-4ec9-e907-90836040078e"
      },
      "outputs": [
        {
          "output_type": "display_data",
          "data": {
            "text/plain": [
              "<Figure size 640x480 with 1 Axes>"
            ],
            "image/png": "[encoded data removed]"
          },
          "metadata": {}
        }
      ],
      "source": [
        "img_gray = cv2.imread(\"/content/Computer_Vision/First_Lesson/images/black.jpg\", cv2.IMREAD_GRAYSCALE) # 讀取圖片\n",
        "plt.imshow(img_gray, cmap = 'gray', vmin = 0, vmax = 255)\n",
        "plt.show()"
      ]
    },
    {
      "cell_type": "markdown",
      "id": "8c890db2",
      "metadata": {
        "id": "8c890db2"
      },
      "source": [
        "3. 列印灰階影像的解析度及其像素值。"
      ]
    },
    {
      "cell_type": "code",
      "execution_count": 4,
      "id": "923a7a7f",
      "metadata": {
        "scrolled": true,
        "colab": {
          "base_uri": "https://localhost:8080/"
        },
        "id": "923a7a7f",
        "outputId": "e1ad8773-22d9-4434-f8d1-02b4b05fafd6"
      },
      "outputs": [
        {
          "output_type": "stream",
          "name": "stdout",
          "text": [
            "圖象解析度： (8, 8)\n",
            "圖象的像素值：\n",
            " [[ 0 50  1 47  3 49  0 51]\n",
            " [50  1 50  2 48  0 49  0]\n",
            " [ 0 48  1 50  0 49  2 50]\n",
            " [52  0 50  1 49  0 50  0]\n",
            " [ 0 50  0 49  1 50  0 52]\n",
            " [50  2 49  0 50  1 48  0]\n",
            " [ 0 49  0 48  2 50  1 50]\n",
            " [51  0 49  3 47  1 50  0]]\n"
          ]
        }
      ],
      "source": [
        "print(\"圖象解析度：\", img_gray.shape) # 輸出圖像解析度\n",
        "print(\"圖象的像素值：\\n\", img_gray)"
      ]
    },
    {
      "cell_type": "markdown",
      "id": "40c57add",
      "metadata": {
        "id": "40c57add"
      },
      "source": [
        "4. 複製該圖像。"
      ]
    },
    {
      "cell_type": "code",
      "execution_count": 5,
      "id": "31f7bae3",
      "metadata": {
        "id": "31f7bae3"
      },
      "outputs": [],
      "source": [
        "img_copy = img_gray.copy()"
      ]
    },
    {
      "cell_type": "markdown",
      "id": "7c90d60f",
      "metadata": {
        "id": "7c90d60f"
      },
      "source": [
        "5. 將副本的4個中心像素值分別修改為255，並列印修改後的新像素值。"
      ]
    },
    {
      "cell_type": "code",
      "execution_count": 6,
      "id": "e7bd5606",
      "metadata": {
        "colab": {
          "base_uri": "https://localhost:8080/"
        },
        "id": "e7bd5606",
        "outputId": "986580c6-5a4b-4d28-883f-e5956e3d1dff"
      },
      "outputs": [
        {
          "output_type": "stream",
          "name": "stdout",
          "text": [
            "修改後的像素值：\n",
            " [[  0  50   1  47   3  49   0  51]\n",
            " [ 50   1  50   2  48   0  49   0]\n",
            " [  0  48   1  50   0  49   2  50]\n",
            " [ 52   0  50 255 255   0  50   0]\n",
            " [  0  50   0 255 255  50   0  52]\n",
            " [ 50   2  49   0  50   1  48   0]\n",
            " [  0  49   0  48   2  50   1  50]\n",
            " [ 51   0  49   3  47   1  50   0]]\n"
          ]
        }
      ],
      "source": [
        "img_copy[3, 3] = 255\n",
        "img_copy[3, 4] = 255\n",
        "img_copy[4, 3] = 255\n",
        "img_copy[4, 4] = 255\n",
        "print(\"修改後的像素值：\\n\", img_copy)"
      ]
    },
    {
      "cell_type": "markdown",
      "id": "922a9821",
      "metadata": {
        "id": "922a9821"
      },
      "source": [
        "6. 製作原始影像的另一個副本。使用切片，將第二個副本的中心 4 個像素的值修改為 255。"
      ]
    },
    {
      "cell_type": "code",
      "execution_count": 7,
      "id": "e207bcf4",
      "metadata": {
        "scrolled": true,
        "id": "e207bcf4"
      },
      "outputs": [],
      "source": [
        "img_copy_2 = img_gray.copy()\n",
        "img_copy_2[3:5, 3:5] = 255"
      ]
    },
    {
      "cell_type": "markdown",
      "id": "5a89e3ee",
      "metadata": {
        "id": "5a89e3ee"
      },
      "source": [
        "7. 並排顯示原始影像和兩個副本。"
      ]
    },
    {
      "cell_type": "code",
      "execution_count": 8,
      "id": "d5ea218e",
      "metadata": {
        "colab": {
          "base_uri": "https://localhost:8080/",
          "height": 206
        },
        "id": "d5ea218e",
        "outputId": "e52f7682-bf43-4b01-bd19-9093877921b8"
      },
      "outputs": [
        {
          "output_type": "display_data",
          "data": {
            "text/plain": [
              "<Figure size 640x480 with 3 Axes>"
            ],
            "image/png": "[encoded data removed]"
          },
          "metadata": {}
        }
      ],
      "source": [
        "plt.subplot(1, 3, 1)\n",
        "plt.imshow(img_gray, cmap = \"gray\", vmin = 0, vmax = 255)\n",
        "\n",
        "plt.subplot(1, 3, 2)\n",
        "plt.imshow(img_copy, cmap = \"gray\", vmin = 0, vmax = 255)\n",
        "\n",
        "plt.subplot(1, 3, 3)\n",
        "plt.imshow(img_copy_2, cmap = \"gray\", vmin = 0, vmax = 255)\n",
        "\n",
        "plt.show() # 同時顯示3個圖像"
      ]
    },
    {
      "cell_type": "markdown",
      "id": "eab314a2",
      "metadata": {
        "id": "eab314a2"
      },
      "source": [
        "### **[學生實踐] 完成像素藝術**\n",
        "\n",
        "1. 讀取並顯示灰階影像 `snowman_g.jpg`.\n",
        "     "
      ]
    },
    {
      "cell_type": "code",
      "execution_count": 9,
      "id": "4374f79d",
      "metadata": {
        "colab": {
          "base_uri": "https://localhost:8080/",
          "height": 430
        },
        "id": "4374f79d",
        "outputId": "68b81b1c-be34-4f90-98da-b7d10b2c0f8b"
      },
      "outputs": [
        {
          "output_type": "display_data",
          "data": {
            "text/plain": [
              "<Figure size 640x480 with 1 Axes>"
            ],
            "image/png": "[encoded data removed]"
          },
          "metadata": {}
        }
      ],
      "source": [
        "img_gray = cv2.imread(\"/content/Computer_Vision/First_Lesson/images/snowman_g.jpg\", cv2.IMREAD_GRAYSCALE) # 讀取圖片\n",
        "plt.imshow(img_gray, cmap = 'gray', vmin = 0, vmax = 255)\n",
        "plt.show()"
      ]
    },
    {
      "cell_type": "markdown",
      "id": "9276f632",
      "metadata": {
        "id": "9276f632"
      },
      "source": [
        "2. 寫一個程式來完成雪人。\n",
        "\n",
        "<img src=\"https://raw.githubusercontent.com/raymond92928/Computer_Vision/refs/heads/main/First_Lesson/images_ans/drawing.png\" width = \"800\">\n",
        "\n",
        "透過製作圖像的副本並修改像素值以匹配上面的圖像來完成任務。"
      ]
    },
    {
      "cell_type": "code",
      "execution_count": null,
      "id": "52d8f144",
      "metadata": {
        "id": "52d8f144"
      },
      "outputs": [],
      "source": [
        "# Write the program below\n",
        "\n",
        "\n",
        "\n",
        "\n",
        "# Display and compare the original image and the modified image\n"
      ]
    },
    {
      "cell_type": "markdown",
      "id": "56dd842f",
      "metadata": {
        "id": "56dd842f"
      },
      "source": [
        "### **[附加練習] 創造你自己的像素藝術**\n",
        "\n",
        "1. 讀取灰階影像 `/black_back.jpg`.\n",
        "\n",
        "The `\"black_back.jpg\"` image is a completely black 30x30 image, which serves as a starting point."
      ]
    },
    {
      "cell_type": "code",
      "execution_count": 10,
      "id": "8cbd174d",
      "metadata": {
        "id": "8cbd174d"
      },
      "outputs": [],
      "source": [
        "img_gray = cv2.imread(\"/content/Computer_Vision/First_Lesson/images/black.jpg\", cv2.IMREAD_GRAYSCALE) # Read image"
      ]
    },
    {
      "cell_type": "markdown",
      "id": "c200cf41",
      "metadata": {
        "id": "c200cf41"
      },
      "source": [
        "2. Write a program to modify the pixel values of the image to create a pixel art of your own design."
      ]
    },
    {
      "cell_type": "code",
      "execution_count": null,
      "id": "4936c096",
      "metadata": {
        "id": "4936c096"
      },
      "outputs": [],
      "source": [
        "# Write your program below\n",
        "\n",
        "\n",
        "\n",
        "\n",
        "\n",
        "\n",
        "\n",
        "\n"
      ]
    }
  ],
  "metadata": {
    "kernelspec": {
      "display_name": "Python 3 (ipykernel)",
      "language": "python",
      "name": "python3"
    },
    "language_info": {
      "codemirror_mode": {
        "name": "ipython",
        "version": 3
      },
      "file_extension": ".py",
      "mimetype": "text/x-python",
      "name": "python",
      "nbconvert_exporter": "python",
      "pygments_lexer": "ipython3",
      "version": "3.9.7"
    },
    "colab": {
      "provenance": [],
      "include_colab_link": true
    }
  },
  "nbformat": 4,
  "nbformat_minor": 5
}